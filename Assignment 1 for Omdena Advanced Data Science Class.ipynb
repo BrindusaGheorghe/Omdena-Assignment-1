{
 "cells": [
  {
   "cell_type": "markdown",
   "id": "3bc232d8-8bcc-4802-872e-ecc3790faf3e",
   "metadata": {
    "tags": []
   },
   "source": [
    "\n",
    "# Foundations of Data Science: Practical Assignment\n",
    "\n",
    "Total Marks: 50\n",
    "\n",
    "## Task 1: Introduction to Data Science (10 marks)\n",
    "\n",
    "Data Science Overview (3 marks):\n",
    "Provide a brief explanation of what data science is and its significance in various industries.\n",
    "\n",
    "Setting up the Environment (2 marks):\n",
    "Install necessary Python libraries for data science (e.g., NumPy, Pandas, Matplotlib) using Jupyter Notebook cells.\n",
    "\n",
    "Loading and Displaying Data (5 marks):\n",
    "Import a dataset of your choice (e.g., CSV or Excel file) using Pandas.\n",
    "Display the first few rows of the dataset to understand its structure.\n",
    "\n",
    "## Task 2: Core Concepts and Principles (15 marks)\n",
    "\n",
    "Data Types and Structures (4 marks):\n",
    "Create variables representing different data types (integer, float, string).\n",
    "Explore and demonstrate basic operations on these variables.\n",
    "\n",
    "Data Manipulation (5 marks):\n",
    "Apply data manipulation techniques using Pandas.\n",
    "Perform tasks such as filtering, sorting, and grouping on the loaded dataset.\n",
    "\n",
    "Feature Engineering (6 marks):\n",
    "Create a new feature based on existing features in the dataset.\n",
    "Explain the rationale behind the feature engineering process.\n",
    "\n",
    "## Task 3: Statistical Analysis (10 marks)\n",
    "\n",
    "Descriptive Statistics (4 marks):\n",
    "Compute and interpret key descriptive statistics (mean, median, standard deviation) for relevant columns in the dataset.\n",
    "\n",
    "Inferential Statistics (6 marks):\n",
    "Formulate a hypothesis related to the dataset.\n",
    "Conduct a statistical test (e.g., t-test) to test the hypothesis.\n",
    "Provide conclusions based on the test results.\n",
    "\n",
    "## Task 4: Exploratory Data Analysis (15 marks)\n",
    "\n",
    "Data Visualization (8 marks):\n",
    "Create at least three visualizations (e.g., histograms, scatter plots, box plots) to explore relationships within the dataset.\n",
    "Include appropriate labels and titles for clarity.\n",
    "\n",
    "Outlier Detection (5 marks):\n",
    "Identify and handle outliers in the dataset.\n",
    "Explain the methodology and reasoning behind your approach.\n",
    "\n",
    "Correlation Analysis (2 marks):\n",
    "Compute and interpret the correlation between two relevant variables in the dataset.\n",
    "\n",
    "Submission Instructions (2 marks)\n",
    "\n",
    "**Jupyter Notebook Submission (2 marks):**\n",
    "\n",
    "Compile all tasks in a Jupyter Notebook.\n",
    "Include comments and explanations for each step.\n",
    "Submit the notebook file or provide a GitHub link for review.\n",
    "You will be required to submit this in the Folder for assignments in the Assignment 1.\n",
    "\n"
   ]
  },
  {
   "cell_type": "markdown",
   "id": "f3b4a140-70b2-452f-8e63-a54df69c99f5",
   "metadata": {},
   "source": [
    "# Task One: Introduction to Data Science"
   ]
  },
  {
   "cell_type": "markdown",
   "id": "b6fe3f31-2f1b-4227-b149-edf76bdcf2ac",
   "metadata": {
    "tags": []
   },
   "source": [
    "## Data Science Overview\n",
    "\n",
    "Data Science is an interdisciplinary field that utilizes scientific methods, processes, algorithms, and systems to extract insights and knowledge from structured and unstructured data.\n",
    "\n",
    "Data Science can be useful in any field, because it enables businesses to use data to make better decisions, cut costs, and innovate. It is particularly useful in healthcare, banking, retail, but it can add value to any industry (DIKW pyramid). "
   ]
  },
  {
   "cell_type": "markdown",
   "id": "ed7159b7-499e-438a-a5a2-a7ee5b86da99",
   "metadata": {
    "tags": []
   },
   "source": [
    "## Setting up the Environment"
   ]
  },
  {
   "cell_type": "code",
   "execution_count": 5,
   "id": "6aea9377-2edb-48bb-b9a7-25decbcfef41",
   "metadata": {},
   "outputs": [],
   "source": [
    "# importing the libraries\n",
    "import numpy as np\n",
    "import pandas as pd\n",
    "import matplotlib.pyplot as plt # for visualization\n",
    "import seaborn as sns # for visualization"
   ]
  },
  {
   "cell_type": "markdown",
   "id": "e96b5091-7d90-47b3-958d-a8d618296b0f",
   "metadata": {
    "tags": []
   },
   "source": [
    "## Loading and Displaying Data"
   ]
  },
  {
   "cell_type": "code",
   "execution_count": 7,
   "id": "4eb0e306-ce27-4099-ac7f-50cae0ccfbca",
   "metadata": {},
   "outputs": [],
   "source": [
    "df = pd.read_csv('rossman_train.csv', engine='python') # loading the file, the engine part is to avoid the low memory error"
   ]
  },
  {
   "cell_type": "code",
   "execution_count": 8,
   "id": "1602d224-477b-471f-a463-0fdc40e2dacc",
   "metadata": {},
   "outputs": [
    {
     "data": {
      "text/html": [
       "<div>\n",
       "<style scoped>\n",
       "    .dataframe tbody tr th:only-of-type {\n",
       "        vertical-align: middle;\n",
       "    }\n",
       "\n",
       "    .dataframe tbody tr th {\n",
       "        vertical-align: top;\n",
       "    }\n",
       "\n",
       "    .dataframe thead th {\n",
       "        text-align: right;\n",
       "    }\n",
       "</style>\n",
       "<table border=\"1\" class=\"dataframe\">\n",
       "  <thead>\n",
       "    <tr style=\"text-align: right;\">\n",
       "      <th></th>\n",
       "      <th>Store</th>\n",
       "      <th>DayOfWeek</th>\n",
       "      <th>Date</th>\n",
       "      <th>Sales</th>\n",
       "      <th>Customers</th>\n",
       "      <th>Open</th>\n",
       "      <th>Promo</th>\n",
       "      <th>StateHoliday</th>\n",
       "      <th>SchoolHoliday</th>\n",
       "    </tr>\n",
       "  </thead>\n",
       "  <tbody>\n",
       "    <tr>\n",
       "      <th>0</th>\n",
       "      <td>1</td>\n",
       "      <td>5</td>\n",
       "      <td>2015-07-31</td>\n",
       "      <td>5263</td>\n",
       "      <td>555</td>\n",
       "      <td>1</td>\n",
       "      <td>1</td>\n",
       "      <td>0</td>\n",
       "      <td>1</td>\n",
       "    </tr>\n",
       "    <tr>\n",
       "      <th>1</th>\n",
       "      <td>2</td>\n",
       "      <td>5</td>\n",
       "      <td>2015-07-31</td>\n",
       "      <td>6064</td>\n",
       "      <td>625</td>\n",
       "      <td>1</td>\n",
       "      <td>1</td>\n",
       "      <td>0</td>\n",
       "      <td>1</td>\n",
       "    </tr>\n",
       "    <tr>\n",
       "      <th>2</th>\n",
       "      <td>3</td>\n",
       "      <td>5</td>\n",
       "      <td>2015-07-31</td>\n",
       "      <td>8314</td>\n",
       "      <td>821</td>\n",
       "      <td>1</td>\n",
       "      <td>1</td>\n",
       "      <td>0</td>\n",
       "      <td>1</td>\n",
       "    </tr>\n",
       "    <tr>\n",
       "      <th>3</th>\n",
       "      <td>4</td>\n",
       "      <td>5</td>\n",
       "      <td>2015-07-31</td>\n",
       "      <td>13995</td>\n",
       "      <td>1498</td>\n",
       "      <td>1</td>\n",
       "      <td>1</td>\n",
       "      <td>0</td>\n",
       "      <td>1</td>\n",
       "    </tr>\n",
       "    <tr>\n",
       "      <th>4</th>\n",
       "      <td>5</td>\n",
       "      <td>5</td>\n",
       "      <td>2015-07-31</td>\n",
       "      <td>4822</td>\n",
       "      <td>559</td>\n",
       "      <td>1</td>\n",
       "      <td>1</td>\n",
       "      <td>0</td>\n",
       "      <td>1</td>\n",
       "    </tr>\n",
       "  </tbody>\n",
       "</table>\n",
       "</div>"
      ],
      "text/plain": [
       "   Store  DayOfWeek        Date  Sales  Customers  Open  Promo StateHoliday  \\\n",
       "0      1          5  2015-07-31   5263        555     1      1            0   \n",
       "1      2          5  2015-07-31   6064        625     1      1            0   \n",
       "2      3          5  2015-07-31   8314        821     1      1            0   \n",
       "3      4          5  2015-07-31  13995       1498     1      1            0   \n",
       "4      5          5  2015-07-31   4822        559     1      1            0   \n",
       "\n",
       "   SchoolHoliday  \n",
       "0              1  \n",
       "1              1  \n",
       "2              1  \n",
       "3              1  \n",
       "4              1  "
      ]
     },
     "execution_count": 8,
     "metadata": {},
     "output_type": "execute_result"
    }
   ],
   "source": [
    "df.head(5) # diplay first 5 rows of the dataset"
   ]
  },
  {
   "cell_type": "code",
   "execution_count": 9,
   "id": "633205e9-b3f9-466b-bbef-61911d5c81db",
   "metadata": {},
   "outputs": [
    {
     "data": {
      "text/html": [
       "<div>\n",
       "<style scoped>\n",
       "    .dataframe tbody tr th:only-of-type {\n",
       "        vertical-align: middle;\n",
       "    }\n",
       "\n",
       "    .dataframe tbody tr th {\n",
       "        vertical-align: top;\n",
       "    }\n",
       "\n",
       "    .dataframe thead th {\n",
       "        text-align: right;\n",
       "    }\n",
       "</style>\n",
       "<table border=\"1\" class=\"dataframe\">\n",
       "  <thead>\n",
       "    <tr style=\"text-align: right;\">\n",
       "      <th></th>\n",
       "      <th>Store</th>\n",
       "      <th>DayOfWeek</th>\n",
       "      <th>Sales</th>\n",
       "      <th>Customers</th>\n",
       "      <th>Open</th>\n",
       "      <th>Promo</th>\n",
       "      <th>SchoolHoliday</th>\n",
       "    </tr>\n",
       "  </thead>\n",
       "  <tbody>\n",
       "    <tr>\n",
       "      <th>count</th>\n",
       "      <td>1017209.0</td>\n",
       "      <td>1017209.0</td>\n",
       "      <td>1017209.0</td>\n",
       "      <td>1017209.0</td>\n",
       "      <td>1017209.0</td>\n",
       "      <td>1017209.0</td>\n",
       "      <td>1017209.0</td>\n",
       "    </tr>\n",
       "    <tr>\n",
       "      <th>mean</th>\n",
       "      <td>558.4297268309659</td>\n",
       "      <td>3.998340557348588</td>\n",
       "      <td>5773.818972305593</td>\n",
       "      <td>633.1459464082602</td>\n",
       "      <td>0.8301066939045958</td>\n",
       "      <td>0.3815145166824124</td>\n",
       "      <td>0.17864666946517382</td>\n",
       "    </tr>\n",
       "    <tr>\n",
       "      <th>std</th>\n",
       "      <td>321.90865114345405</td>\n",
       "      <td>1.9973909649460122</td>\n",
       "      <td>3849.926175241448</td>\n",
       "      <td>464.41173388730044</td>\n",
       "      <td>0.37553922469328244</td>\n",
       "      <td>0.4857586048745671</td>\n",
       "      <td>0.38305636817821037</td>\n",
       "    </tr>\n",
       "    <tr>\n",
       "      <th>min</th>\n",
       "      <td>1.0</td>\n",
       "      <td>1.0</td>\n",
       "      <td>0.0</td>\n",
       "      <td>0.0</td>\n",
       "      <td>0.0</td>\n",
       "      <td>0.0</td>\n",
       "      <td>0.0</td>\n",
       "    </tr>\n",
       "    <tr>\n",
       "      <th>25%</th>\n",
       "      <td>280.0</td>\n",
       "      <td>2.0</td>\n",
       "      <td>3727.0</td>\n",
       "      <td>405.0</td>\n",
       "      <td>1.0</td>\n",
       "      <td>0.0</td>\n",
       "      <td>0.0</td>\n",
       "    </tr>\n",
       "    <tr>\n",
       "      <th>50%</th>\n",
       "      <td>558.0</td>\n",
       "      <td>4.0</td>\n",
       "      <td>5744.0</td>\n",
       "      <td>609.0</td>\n",
       "      <td>1.0</td>\n",
       "      <td>0.0</td>\n",
       "      <td>0.0</td>\n",
       "    </tr>\n",
       "    <tr>\n",
       "      <th>75%</th>\n",
       "      <td>838.0</td>\n",
       "      <td>6.0</td>\n",
       "      <td>7856.0</td>\n",
       "      <td>837.0</td>\n",
       "      <td>1.0</td>\n",
       "      <td>1.0</td>\n",
       "      <td>0.0</td>\n",
       "    </tr>\n",
       "    <tr>\n",
       "      <th>max</th>\n",
       "      <td>1115.0</td>\n",
       "      <td>7.0</td>\n",
       "      <td>41551.0</td>\n",
       "      <td>7388.0</td>\n",
       "      <td>1.0</td>\n",
       "      <td>1.0</td>\n",
       "      <td>1.0</td>\n",
       "    </tr>\n",
       "  </tbody>\n",
       "</table>\n",
       "</div>"
      ],
      "text/plain": [
       "                   Store          DayOfWeek             Sales  \\\n",
       "count          1017209.0          1017209.0         1017209.0   \n",
       "mean   558.4297268309659  3.998340557348588 5773.818972305593   \n",
       "std   321.90865114345405 1.9973909649460122 3849.926175241448   \n",
       "min                  1.0                1.0               0.0   \n",
       "25%                280.0                2.0            3727.0   \n",
       "50%                558.0                4.0            5744.0   \n",
       "75%                838.0                6.0            7856.0   \n",
       "max               1115.0                7.0           41551.0   \n",
       "\n",
       "               Customers                Open              Promo  \\\n",
       "count          1017209.0           1017209.0          1017209.0   \n",
       "mean   633.1459464082602  0.8301066939045958 0.3815145166824124   \n",
       "std   464.41173388730044 0.37553922469328244 0.4857586048745671   \n",
       "min                  0.0                 0.0                0.0   \n",
       "25%                405.0                 1.0                0.0   \n",
       "50%                609.0                 1.0                0.0   \n",
       "75%                837.0                 1.0                1.0   \n",
       "max               7388.0                 1.0                1.0   \n",
       "\n",
       "            SchoolHoliday  \n",
       "count           1017209.0  \n",
       "mean  0.17864666946517382  \n",
       "std   0.38305636817821037  \n",
       "min                   0.0  \n",
       "25%                   0.0  \n",
       "50%                   0.0  \n",
       "75%                   0.0  \n",
       "max                   1.0  "
      ]
     },
     "execution_count": 9,
     "metadata": {},
     "output_type": "execute_result"
    }
   ],
   "source": [
    "pd.set_option('display.float_format', str) # to avoid scientific notation\n",
    "df.describe() # statistical summary"
   ]
  },
  {
   "cell_type": "markdown",
   "id": "adc39122-e675-4b1d-8ad0-48c9b86723de",
   "metadata": {},
   "source": [
    "## Task 2: Core Concepts and Principles"
   ]
  },
  {
   "cell_type": "code",
   "execution_count": 11,
   "id": "dcd623e6-902f-461a-be8a-bc1c135c34ac",
   "metadata": {},
   "outputs": [],
   "source": [
    "# Create variables representing different data types (integer, float, string). Explore and demonstrate basic operations on these variables.\n",
    "\n",
    "name = 'Sherlock Holmes'\n",
    "street = 'Baker Street'\n",
    "street_number = '221'\n",
    "age = 42\n",
    "height = 1.96"
   ]
  },
  {
   "cell_type": "code",
   "execution_count": 12,
   "id": "adbd26bc-f61a-4d58-8d79-29766ed7c3c1",
   "metadata": {},
   "outputs": [
    {
     "data": {
      "text/plain": [
       "'Sherlock HolmesSherlock HolmesSherlock Holmes'"
      ]
     },
     "execution_count": 12,
     "metadata": {},
     "output_type": "execute_result"
    }
   ],
   "source": [
    "name * 3 # variable 'name' is a string, but we can print it multiple times using math "
   ]
  },
  {
   "cell_type": "code",
   "execution_count": 13,
   "id": "f4486f70-8e6b-408d-9d65-a2c3405a96fc",
   "metadata": {},
   "outputs": [
    {
     "data": {
      "text/plain": [
       "'221221221221221221221221221221'"
      ]
     },
     "execution_count": 13,
     "metadata": {},
     "output_type": "execute_result"
    }
   ],
   "source": [
    "street_number * 10 # this is not how you add a zero at the end with strings"
   ]
  },
  {
   "cell_type": "code",
   "execution_count": 14,
   "id": "8950e14a-df9d-4c68-8b92-7167564347b6",
   "metadata": {},
   "outputs": [
    {
     "data": {
      "text/plain": [
       "'2210'"
      ]
     },
     "execution_count": 14,
     "metadata": {},
     "output_type": "execute_result"
    }
   ],
   "source": [
    "street_number + '0' # this is how you add a zero at the end, we add strings to strings"
   ]
  },
  {
   "cell_type": "code",
   "execution_count": 15,
   "id": "a67b39f2-d1d2-436d-826c-3ffae17f38d2",
   "metadata": {},
   "outputs": [
    {
     "name": "stdout",
     "output_type": "stream",
     "text": [
      "221b\n"
     ]
    }
   ],
   "source": [
    "street_number = street_number + 'b' # this is how we modify the variable\n",
    "print(street_number)"
   ]
  },
  {
   "cell_type": "code",
   "execution_count": 16,
   "id": "7d4db1f3-d314-4507-8213-e74a560576f5",
   "metadata": {},
   "outputs": [
    {
     "data": {
      "text/plain": [
       "'SHERLOCK HOLMES'"
      ]
     },
     "execution_count": 16,
     "metadata": {},
     "output_type": "execute_result"
    }
   ],
   "source": [
    "name.upper() # string in all capitals"
   ]
  },
  {
   "cell_type": "code",
   "execution_count": 17,
   "id": "6624b2ad-6350-40dc-aab5-4b6e3d9b4a48",
   "metadata": {},
   "outputs": [
    {
     "data": {
      "text/plain": [
       "'User Sherlock Holmes is 42 years old and 1.96 meters tall. User Sherlock Holmes lives at Baker Street 221b.'"
      ]
     },
     "execution_count": 17,
     "metadata": {},
     "output_type": "execute_result"
    }
   ],
   "source": [
    "address = street + ' ' + street_number # when combining strings it can be useful to add blank spaces between words\n",
    "\n",
    "message = 'User {} is {} years old and {} meters tall. User {} lives at {}.' # combining different data types in one message\n",
    "\n",
    "message.format(name, age, height, name, address) # add the variable names in the correct order"
   ]
  },
  {
   "cell_type": "markdown",
   "id": "f6fec64c-0913-4b2f-9b32-d8d147232de0",
   "metadata": {
    "tags": []
   },
   "source": [
    "Below I am playing with string values in an input, trying to change everyone's name to Sherlock Holmes."
   ]
  },
  {
   "cell_type": "code",
   "execution_count": 19,
   "id": "664096e7-5e9f-4d4c-a014-77e468ff1ead",
   "metadata": {},
   "outputs": [
    {
     "name": "stdin",
     "output_type": "stream",
     "text": [
      "What is your name?  Grumpy\n",
      "Your name is not Sherlock Holmes, would you be willing to change it?  yes\n"
     ]
    },
    {
     "name": "stdout",
     "output_type": "stream",
     "text": [
      "Awesome!!! Nice to meet you, Sherlock Holmes!\n"
     ]
    }
   ],
   "source": [
    "answer = input ('What is your name? ').lower()\n",
    "if answer == 'sherlock holmes':\n",
    "    print('Nice to meet you, Sherlock Holmes!')\n",
    "else:\n",
    "    answer2 = input('Your name is not Sherlock Holmes, would you be willing to change it? ').lower()\n",
    "    if answer2 == 'yes':\n",
    "        print('Awesome!!! Nice to meet you, Sherlock Holmes!')\n",
    "    else:\n",
    "        print('Well, it was worth a try! Nice to meet you' + '!')"
   ]
  },
  {
   "cell_type": "markdown",
   "id": "c3222476-9c72-4fca-9c2e-cfe13577ddbd",
   "metadata": {
    "tags": []
   },
   "source": [
    "## Data Manipulation"
   ]
  },
  {
   "cell_type": "code",
   "execution_count": 21,
   "id": "73f8e3cf-5241-46b3-a1f0-4480bfde6ddc",
   "metadata": {},
   "outputs": [
    {
     "data": {
      "text/html": [
       "<div>\n",
       "<style scoped>\n",
       "    .dataframe tbody tr th:only-of-type {\n",
       "        vertical-align: middle;\n",
       "    }\n",
       "\n",
       "    .dataframe tbody tr th {\n",
       "        vertical-align: top;\n",
       "    }\n",
       "\n",
       "    .dataframe thead th {\n",
       "        text-align: right;\n",
       "    }\n",
       "</style>\n",
       "<table border=\"1\" class=\"dataframe\">\n",
       "  <thead>\n",
       "    <tr style=\"text-align: right;\">\n",
       "      <th></th>\n",
       "      <th>DayOfWeek</th>\n",
       "      <th>Sales</th>\n",
       "      <th>Customers</th>\n",
       "      <th>Open</th>\n",
       "      <th>Promo</th>\n",
       "      <th>StateHoliday</th>\n",
       "      <th>SchoolHoliday</th>\n",
       "    </tr>\n",
       "  </thead>\n",
       "  <tbody>\n",
       "    <tr>\n",
       "      <th>0</th>\n",
       "      <td>5</td>\n",
       "      <td>5263</td>\n",
       "      <td>555</td>\n",
       "      <td>1</td>\n",
       "      <td>1</td>\n",
       "      <td>0</td>\n",
       "      <td>1</td>\n",
       "    </tr>\n",
       "    <tr>\n",
       "      <th>1</th>\n",
       "      <td>5</td>\n",
       "      <td>6064</td>\n",
       "      <td>625</td>\n",
       "      <td>1</td>\n",
       "      <td>1</td>\n",
       "      <td>0</td>\n",
       "      <td>1</td>\n",
       "    </tr>\n",
       "    <tr>\n",
       "      <th>2</th>\n",
       "      <td>5</td>\n",
       "      <td>8314</td>\n",
       "      <td>821</td>\n",
       "      <td>1</td>\n",
       "      <td>1</td>\n",
       "      <td>0</td>\n",
       "      <td>1</td>\n",
       "    </tr>\n",
       "    <tr>\n",
       "      <th>3</th>\n",
       "      <td>5</td>\n",
       "      <td>13995</td>\n",
       "      <td>1498</td>\n",
       "      <td>1</td>\n",
       "      <td>1</td>\n",
       "      <td>0</td>\n",
       "      <td>1</td>\n",
       "    </tr>\n",
       "    <tr>\n",
       "      <th>4</th>\n",
       "      <td>5</td>\n",
       "      <td>4822</td>\n",
       "      <td>559</td>\n",
       "      <td>1</td>\n",
       "      <td>1</td>\n",
       "      <td>0</td>\n",
       "      <td>1</td>\n",
       "    </tr>\n",
       "  </tbody>\n",
       "</table>\n",
       "</div>"
      ],
      "text/plain": [
       "   DayOfWeek  Sales  Customers  Open  Promo StateHoliday  SchoolHoliday\n",
       "0          5   5263        555     1      1            0              1\n",
       "1          5   6064        625     1      1            0              1\n",
       "2          5   8314        821     1      1            0              1\n",
       "3          5  13995       1498     1      1            0              1\n",
       "4          5   4822        559     1      1            0              1"
      ]
     },
     "execution_count": 21,
     "metadata": {},
     "output_type": "execute_result"
    }
   ],
   "source": [
    "# filtering, sorting, and grouping\n",
    "\n",
    "# filtering DayOfWeek \tSales \tCustomers \tOpen \tPromo \tStateHoliday \tSchoolHoliday\n",
    "\n",
    "df = df[['DayOfWeek', 'Sales', 'Customers', 'Open', 'Promo', 'StateHoliday', 'SchoolHoliday']] # I don't think I need all the columns, so I am filtering out the ones I don't need\n",
    "df.head(5)"
   ]
  },
  {
   "cell_type": "code",
   "execution_count": 22,
   "id": "82614d07-8631-43ce-aaea-3138778fe3cd",
   "metadata": {},
   "outputs": [
    {
     "data": {
      "text/html": [
       "<div>\n",
       "<style scoped>\n",
       "    .dataframe tbody tr th:only-of-type {\n",
       "        vertical-align: middle;\n",
       "    }\n",
       "\n",
       "    .dataframe tbody tr th {\n",
       "        vertical-align: top;\n",
       "    }\n",
       "\n",
       "    .dataframe thead th {\n",
       "        text-align: right;\n",
       "    }\n",
       "</style>\n",
       "<table border=\"1\" class=\"dataframe\">\n",
       "  <thead>\n",
       "    <tr style=\"text-align: right;\">\n",
       "      <th></th>\n",
       "      <th>DayOfWeek</th>\n",
       "      <th>Sales</th>\n",
       "      <th>Customers</th>\n",
       "      <th>Open</th>\n",
       "      <th>Promo</th>\n",
       "      <th>StateHoliday</th>\n",
       "      <th>SchoolHoliday</th>\n",
       "    </tr>\n",
       "  </thead>\n",
       "  <tbody>\n",
       "  </tbody>\n",
       "</table>\n",
       "</div>"
      ],
      "text/plain": [
       "Empty DataFrame\n",
       "Columns: [DayOfWeek, Sales, Customers, Open, Promo, StateHoliday, SchoolHoliday]\n",
       "Index: []"
      ]
     },
     "execution_count": 22,
     "metadata": {},
     "output_type": "execute_result"
    }
   ],
   "source": [
    "# filtering out the value 0 for column Open (I want df to only show me data for when the stores are open)\n",
    "#df [ (df[‘‘column name'] ==’column value’ )]\n",
    "# newdf = df[(df.origin == \"JFK\") & (df.carrier == \"B6\")]\n",
    "\n",
    "open_df = df[(df.Open == \"1\" )] # this isn't working and I'm not sure what I'm doing wrong\n",
    "open_df.head(10)"
   ]
  },
  {
   "cell_type": "code",
   "execution_count": 23,
   "id": "5132b8ac-070b-435c-8d0d-70f9bdb8a44d",
   "metadata": {},
   "outputs": [
    {
     "data": {
      "text/html": [
       "<div>\n",
       "<style scoped>\n",
       "    .dataframe tbody tr th:only-of-type {\n",
       "        vertical-align: middle;\n",
       "    }\n",
       "\n",
       "    .dataframe tbody tr th {\n",
       "        vertical-align: top;\n",
       "    }\n",
       "\n",
       "    .dataframe thead th {\n",
       "        text-align: right;\n",
       "    }\n",
       "</style>\n",
       "<table border=\"1\" class=\"dataframe\">\n",
       "  <thead>\n",
       "    <tr style=\"text-align: right;\">\n",
       "      <th></th>\n",
       "      <th>Sales</th>\n",
       "      <th>Customers</th>\n",
       "    </tr>\n",
       "  </thead>\n",
       "  <tbody>\n",
       "    <tr>\n",
       "      <th>44393</th>\n",
       "      <td>41551</td>\n",
       "      <td>1721</td>\n",
       "    </tr>\n",
       "    <tr>\n",
       "      <th>132946</th>\n",
       "      <td>38722</td>\n",
       "      <td>5132</td>\n",
       "    </tr>\n",
       "    <tr>\n",
       "      <th>101726</th>\n",
       "      <td>38484</td>\n",
       "      <td>5458</td>\n",
       "    </tr>\n",
       "    <tr>\n",
       "      <th>87231</th>\n",
       "      <td>38367</td>\n",
       "      <td>5192</td>\n",
       "    </tr>\n",
       "    <tr>\n",
       "      <th>424086</th>\n",
       "      <td>38037</td>\n",
       "      <td>1970</td>\n",
       "    </tr>\n",
       "    <tr>\n",
       "      <th>...</th>\n",
       "      <td>...</td>\n",
       "      <td>...</td>\n",
       "    </tr>\n",
       "    <tr>\n",
       "      <th>1017204</th>\n",
       "      <td>0</td>\n",
       "      <td>0</td>\n",
       "    </tr>\n",
       "    <tr>\n",
       "      <th>1017205</th>\n",
       "      <td>0</td>\n",
       "      <td>0</td>\n",
       "    </tr>\n",
       "    <tr>\n",
       "      <th>1017206</th>\n",
       "      <td>0</td>\n",
       "      <td>0</td>\n",
       "    </tr>\n",
       "    <tr>\n",
       "      <th>1017207</th>\n",
       "      <td>0</td>\n",
       "      <td>0</td>\n",
       "    </tr>\n",
       "    <tr>\n",
       "      <th>1017208</th>\n",
       "      <td>0</td>\n",
       "      <td>0</td>\n",
       "    </tr>\n",
       "  </tbody>\n",
       "</table>\n",
       "<p>1017209 rows × 2 columns</p>\n",
       "</div>"
      ],
      "text/plain": [
       "         Sales  Customers\n",
       "44393    41551       1721\n",
       "132946   38722       5132\n",
       "101726   38484       5458\n",
       "87231    38367       5192\n",
       "424086   38037       1970\n",
       "...        ...        ...\n",
       "1017204      0          0\n",
       "1017205      0          0\n",
       "1017206      0          0\n",
       "1017207      0          0\n",
       "1017208      0          0\n",
       "\n",
       "[1017209 rows x 2 columns]"
      ]
     },
     "execution_count": 23,
     "metadata": {},
     "output_type": "execute_result"
    }
   ],
   "source": [
    "#sorting\n",
    "\n",
    "# I want to see the biggest sales first and the biggest numbers of customers\n",
    "\n",
    "df.sort_values(by=[\"Sales\", \"Customers\"], ascending=False)[[\"Sales\", \"Customers\"]]"
   ]
  },
  {
   "cell_type": "markdown",
   "id": "188e8ff1-65a2-4da4-9afb-514045cd9584",
   "metadata": {
    "tags": []
   },
   "source": [
    "## Feature Engineering"
   ]
  },
  {
   "cell_type": "code",
   "execution_count": 25,
   "id": "7fa6f0a8-9dc7-40e5-bf5e-f1346c9196e0",
   "metadata": {},
   "outputs": [
    {
     "name": "stdout",
     "output_type": "stream",
     "text": [
      "DayOfWeek         int64\n",
      "Sales             int64\n",
      "Customers         int64\n",
      "Open              int64\n",
      "Promo             int64\n",
      "StateHoliday     object\n",
      "SchoolHoliday     int64\n",
      "dtype: object\n"
     ]
    }
   ],
   "source": [
    "print(df.dtypes)"
   ]
  },
  {
   "cell_type": "code",
   "execution_count": 26,
   "id": "84e0ca5e-21c2-4f87-b0a7-82d9c50ebf39",
   "metadata": {},
   "outputs": [
    {
     "data": {
      "text/html": [
       "<div>\n",
       "<style scoped>\n",
       "    .dataframe tbody tr th:only-of-type {\n",
       "        vertical-align: middle;\n",
       "    }\n",
       "\n",
       "    .dataframe tbody tr th {\n",
       "        vertical-align: top;\n",
       "    }\n",
       "\n",
       "    .dataframe thead th {\n",
       "        text-align: right;\n",
       "    }\n",
       "</style>\n",
       "<table border=\"1\" class=\"dataframe\">\n",
       "  <thead>\n",
       "    <tr style=\"text-align: right;\">\n",
       "      <th></th>\n",
       "      <th>DayOfWeek</th>\n",
       "      <th>Sales</th>\n",
       "      <th>Customers</th>\n",
       "      <th>Open</th>\n",
       "      <th>Promo</th>\n",
       "      <th>StateHoliday</th>\n",
       "      <th>SchoolHoliday</th>\n",
       "    </tr>\n",
       "  </thead>\n",
       "  <tbody>\n",
       "    <tr>\n",
       "      <th>0</th>\n",
       "      <td>5</td>\n",
       "      <td>5263</td>\n",
       "      <td>555</td>\n",
       "      <td>True</td>\n",
       "      <td>True</td>\n",
       "      <td>0</td>\n",
       "      <td>True</td>\n",
       "    </tr>\n",
       "    <tr>\n",
       "      <th>1</th>\n",
       "      <td>5</td>\n",
       "      <td>6064</td>\n",
       "      <td>625</td>\n",
       "      <td>True</td>\n",
       "      <td>True</td>\n",
       "      <td>0</td>\n",
       "      <td>True</td>\n",
       "    </tr>\n",
       "    <tr>\n",
       "      <th>2</th>\n",
       "      <td>5</td>\n",
       "      <td>8314</td>\n",
       "      <td>821</td>\n",
       "      <td>True</td>\n",
       "      <td>True</td>\n",
       "      <td>0</td>\n",
       "      <td>True</td>\n",
       "    </tr>\n",
       "    <tr>\n",
       "      <th>3</th>\n",
       "      <td>5</td>\n",
       "      <td>13995</td>\n",
       "      <td>1498</td>\n",
       "      <td>True</td>\n",
       "      <td>True</td>\n",
       "      <td>0</td>\n",
       "      <td>True</td>\n",
       "    </tr>\n",
       "    <tr>\n",
       "      <th>4</th>\n",
       "      <td>5</td>\n",
       "      <td>4822</td>\n",
       "      <td>559</td>\n",
       "      <td>True</td>\n",
       "      <td>True</td>\n",
       "      <td>0</td>\n",
       "      <td>True</td>\n",
       "    </tr>\n",
       "  </tbody>\n",
       "</table>\n",
       "</div>"
      ],
      "text/plain": [
       "  DayOfWeek  Sales Customers  Open  Promo StateHoliday  SchoolHoliday\n",
       "0         5   5263       555  True   True            0           True\n",
       "1         5   6064       625  True   True            0           True\n",
       "2         5   8314       821  True   True            0           True\n",
       "3         5  13995      1498  True   True            0           True\n",
       "4         5   4822       559  True   True            0           True"
      ]
     },
     "execution_count": 26,
     "metadata": {},
     "output_type": "execute_result"
    }
   ],
   "source": [
    "df.replace({0: False, 1: True}, inplace=True)\n",
    "df.head(5)"
   ]
  },
  {
   "cell_type": "code",
   "execution_count": 55,
   "id": "58d29abe-a465-4aea-9282-940118f44c85",
   "metadata": {},
   "outputs": [
    {
     "name": "stdout",
     "output_type": "stream",
     "text": [
      "Index(['DayOfWeek', 'Sales', 'Customers', 'Open', 'Promo', 'SchoolHoliday',\n",
      "       'StateHoliday_0', 'StateHoliday_a', 'StateHoliday_b', 'StateHoliday_c'],\n",
      "      dtype='object')\n"
     ]
    }
   ],
   "source": [
    "one_hot_encoded = pd.get_dummies(df, columns=['StateHoliday'])\n",
    "print(one_hot_encoded.columns)"
   ]
  },
  {
   "cell_type": "code",
   "execution_count": null,
   "id": "b534d8f3-498c-4eca-9898-6431bbc5dff0",
   "metadata": {},
   "outputs": [],
   "source": []
  }
 ],
 "metadata": {
  "kernelspec": {
   "display_name": "anaconda-panel-2023.05-py310",
   "language": "python",
   "name": "conda-env-anaconda-panel-2023.05-py310-py"
  },
  "language_info": {
   "codemirror_mode": {
    "name": "ipython",
    "version": 3
   },
   "file_extension": ".py",
   "mimetype": "text/x-python",
   "name": "python",
   "nbconvert_exporter": "python",
   "pygments_lexer": "ipython3",
   "version": "3.11.5"
  }
 },
 "nbformat": 4,
 "nbformat_minor": 5
}
